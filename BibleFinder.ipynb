{
 "cells": [
  {
   "cell_type": "code",
   "execution_count": 1,
   "metadata": {},
   "outputs": [],
   "source": [
    "%load_ext cython"
   ]
  },
  {
   "cell_type": "code",
   "execution_count": 2,
   "metadata": {},
   "outputs": [],
   "source": [
    "import pandas as pd\n",
    "from IPython.display import display"
   ]
  },
  {
   "cell_type": "code",
   "execution_count": 3,
   "metadata": {},
   "outputs": [],
   "source": [
    "def print_full(x):\n",
    "    pd.set_option('display.max_rows', len(x))\n",
    "    pd.set_option('display.max_columns', None)\n",
    "    pd.set_option('display.width', 2000)\n",
    "    pd.set_option('display.float_format', '{:20,.2f}'.format)\n",
    "    pd.set_option('display.max_colwidth', -1)\n",
    "    display(x)\n",
    "    pd.reset_option('display.max_rows')\n",
    "    pd.reset_option('display.max_columns')\n",
    "    pd.reset_option('display.width')\n",
    "    pd.reset_option('display.float_format')\n",
    "    pd.reset_option('display.max_colwidth')\n"
   ]
  },
  {
   "cell_type": "code",
   "execution_count": 4,
   "metadata": {},
   "outputs": [],
   "source": [
    "df = pd.read_csv('data/bible.txt', delimiter='\\t', header=None)\n",
    "df.columns=['book', 'text']\n",
    "#df = df.head(100)"
   ]
  },
  {
   "cell_type": "code",
   "execution_count": 5,
   "metadata": {},
   "outputs": [
    {
     "data": {
      "text/html": [
       "<div>\n",
       "<style scoped>\n",
       "    .dataframe tbody tr th:only-of-type {\n",
       "        vertical-align: middle;\n",
       "    }\n",
       "\n",
       "    .dataframe tbody tr th {\n",
       "        vertical-align: top;\n",
       "    }\n",
       "\n",
       "    .dataframe thead th {\n",
       "        text-align: right;\n",
       "    }\n",
       "</style>\n",
       "<table border=\"1\" class=\"dataframe\">\n",
       "  <thead>\n",
       "    <tr style=\"text-align: right;\">\n",
       "      <th></th>\n",
       "      <th>book</th>\n",
       "      <th>text</th>\n",
       "      <th>ptext</th>\n",
       "      <th>ptextidx</th>\n",
       "    </tr>\n",
       "  </thead>\n",
       "  <tbody>\n",
       "    <tr>\n",
       "      <th>0</th>\n",
       "      <td>Genesis 1:1</td>\n",
       "      <td>In the beginning God created the heaven and th...</td>\n",
       "      <td>inthebeginninggodcreatedtheheavenandtheearth</td>\n",
       "      <td>44</td>\n",
       "    </tr>\n",
       "    <tr>\n",
       "      <th>1</th>\n",
       "      <td>Genesis 1:2</td>\n",
       "      <td>And the earth was without form, and void; and ...</td>\n",
       "      <td>andtheearthwaswithoutformandvoidanddarknesswas...</td>\n",
       "      <td>154</td>\n",
       "    </tr>\n",
       "    <tr>\n",
       "      <th>2</th>\n",
       "      <td>Genesis 1:3</td>\n",
       "      <td>And God said, Let there be light: and there wa...</td>\n",
       "      <td>andgodsaidlettherebelightandtherewaslight</td>\n",
       "      <td>195</td>\n",
       "    </tr>\n",
       "    <tr>\n",
       "      <th>3</th>\n",
       "      <td>Genesis 1:4</td>\n",
       "      <td>And God saw the light, that it was good: and G...</td>\n",
       "      <td>andgodsawthelightthatitwasgoodandgoddividedthe...</td>\n",
       "      <td>261</td>\n",
       "    </tr>\n",
       "    <tr>\n",
       "      <th>4</th>\n",
       "      <td>Genesis 1:5</td>\n",
       "      <td>And God called the light Day, and the darkness...</td>\n",
       "      <td>andgodcalledthelightdayandthedarknesshecalledn...</td>\n",
       "      <td>352</td>\n",
       "    </tr>\n",
       "  </tbody>\n",
       "</table>\n",
       "</div>"
      ],
      "text/plain": [
       "          book                                               text  \\\n",
       "0  Genesis 1:1  In the beginning God created the heaven and th...   \n",
       "1  Genesis 1:2  And the earth was without form, and void; and ...   \n",
       "2  Genesis 1:3  And God said, Let there be light: and there wa...   \n",
       "3  Genesis 1:4  And God saw the light, that it was good: and G...   \n",
       "4  Genesis 1:5  And God called the light Day, and the darkness...   \n",
       "\n",
       "                                               ptext  ptextidx  \n",
       "0       inthebeginninggodcreatedtheheavenandtheearth        44  \n",
       "1  andtheearthwaswithoutformandvoidanddarknesswas...       154  \n",
       "2          andgodsaidlettherebelightandtherewaslight       195  \n",
       "3  andgodsawthelightthatitwasgoodandgoddividedthe...       261  \n",
       "4  andgodcalledthelightdayandthedarknesshecalledn...       352  "
      ]
     },
     "execution_count": 5,
     "metadata": {},
     "output_type": "execute_result"
    }
   ],
   "source": [
    "df['ptext'] = df.text.str.lower().str.replace('[^a-z]', '')\n",
    "df['ptextidx'] = df.ptext.str.len()\n",
    "df['ptextidx'] = df.ptextidx.cumsum()\n",
    "df.head()"
   ]
  },
  {
   "cell_type": "code",
   "execution_count": 6,
   "metadata": {},
   "outputs": [],
   "source": [
    "all_text = df.ptext.sum()"
   ]
  },
  {
   "cell_type": "code",
   "execution_count": 7,
   "metadata": {},
   "outputs": [],
   "source": [
    "%%cython\n",
    "def find(str phrase, str all_text, int max_n=30, int min_n=3):\n",
    "    cdef int i\n",
    "    for i in range(min_n, max_n):\n",
    "        found = do_find(phrase, all_text, i)\n",
    "        if found: return found\n",
    "        \n",
    "cdef do_find(str phrase, str all_text, int n):\n",
    "    cdef int start, idx, start_range\n",
    "    start_range = len(all_text) - n*len(phrase)\n",
    "    for start in range(start_range):\n",
    "        if all_text[start] != phrase[0]: continue\n",
    "        for idx, l in enumerate(phrase):\n",
    "            if all_text[start + n*idx] != l:\n",
    "                break\n",
    "        else: return start, n"
   ]
  },
  {
   "cell_type": "code",
   "execution_count": 8,
   "metadata": {},
   "outputs": [
    {
     "name": "stdout",
     "output_type": "stream",
     "text": [
      "2.36 ms ± 204 µs per loop (mean ± std. dev. of 3 runs, 3 loops each)\n"
     ]
    }
   ],
   "source": [
    "%%timeit -n3 -r3\n",
    "find('secret', all_text[:10000], 30)"
   ]
  },
  {
   "cell_type": "code",
   "execution_count": 9,
   "metadata": {},
   "outputs": [
    {
     "data": {
      "text/plain": [
       "(2551136, 14)"
      ]
     },
     "execution_count": 9,
     "metadata": {},
     "output_type": "execute_result"
    }
   ],
   "source": [
    "phrase = 'secret'\n",
    "offset, skip = find(phrase, all_text, 100, 10)\n",
    "offset, skip"
   ]
  },
  {
   "cell_type": "code",
   "execution_count": 10,
   "metadata": {},
   "outputs": [
    {
     "name": "stdout",
     "output_type": "stream",
     "text": [
      "servantsthewed\n",
      "dingisreadybut\n",
      "theywhichwereb\n",
      "iddenwerenotwo\n",
      "rthygoyetheref\n",
      "oreintothehigh\n"
     ]
    }
   ],
   "source": [
    "adjust = -skip // 2\n",
    "for i in range(len(phrase)):\n",
    "    print(all_text[i*skip+ offset + adjust :offset + skip*(i+1) + adjust])"
   ]
  },
  {
   "cell_type": "code",
   "execution_count": 11,
   "metadata": {},
   "outputs": [
    {
     "data": {
      "text/html": [
       "<div>\n",
       "<style scoped>\n",
       "    .dataframe tbody tr th:only-of-type {\n",
       "        vertical-align: middle;\n",
       "    }\n",
       "\n",
       "    .dataframe tbody tr th {\n",
       "        vertical-align: top;\n",
       "    }\n",
       "\n",
       "    .dataframe thead th {\n",
       "        text-align: right;\n",
       "    }\n",
       "</style>\n",
       "<table border=\"1\" class=\"dataframe\">\n",
       "  <thead>\n",
       "    <tr style=\"text-align: right;\">\n",
       "      <th></th>\n",
       "      <th>book</th>\n",
       "      <th>text</th>\n",
       "    </tr>\n",
       "  </thead>\n",
       "  <tbody>\n",
       "    <tr>\n",
       "      <th>23880</th>\n",
       "      <td>Matthew 22:8</td>\n",
       "      <td>Then saith he to his servants, The wedding is ready, but they which were bidden were not worthy.</td>\n",
       "    </tr>\n",
       "    <tr>\n",
       "      <th>23881</th>\n",
       "      <td>Matthew 22:9</td>\n",
       "      <td>Go ye therefore into the highways, and as many as ye shall find, bid to the marriage.</td>\n",
       "    </tr>\n",
       "  </tbody>\n",
       "</table>\n",
       "</div>"
      ],
      "text/plain": [
       "               book                                                                                              text\n",
       "23880  Matthew 22:8  Then saith he to his servants, The wedding is ready, but they which were bidden were not worthy.\n",
       "23881  Matthew 22:9  Go ye therefore into the highways, and as many as ye shall find, bid to the marriage.           "
      ]
     },
     "metadata": {},
     "output_type": "display_data"
    }
   ],
   "source": [
    "section = df[(df.ptextidx >= offset) & (df.ptextidx - df.ptext.str.len() <= (offset + skip*(1+len(phrase))))]\n",
    "print_full(section[['book', 'text']])"
   ]
  }
 ],
 "metadata": {
  "kernelspec": {
   "display_name": "Python 3",
   "language": "python",
   "name": "python3"
  },
  "language_info": {
   "codemirror_mode": {
    "name": "ipython",
    "version": 3
   },
   "file_extension": ".py",
   "mimetype": "text/x-python",
   "name": "python",
   "nbconvert_exporter": "python",
   "pygments_lexer": "ipython3",
   "version": "3.6.7"
  }
 },
 "nbformat": 4,
 "nbformat_minor": 2
}
